{
 "cells": [
  {
   "cell_type": "markdown",
   "id": "6b4e4f8a",
   "metadata": {},
   "source": [
    "# Création et résolution de labyrinthes"
   ]
  },
  {
   "cell_type": "markdown",
   "id": "b0317d46",
   "metadata": {},
   "source": [
    "## 1°) Introduction"
   ]
  },
  {
   "cell_type": "code",
   "execution_count": 1,
   "id": "cefe2280",
   "metadata": {},
   "outputs": [],
   "source": [
    "import random\n",
    "\n",
    "########\n",
    "class UneCellule:\n",
    "    \"\"\"\n",
    "    définition d'une cellule\n",
    "    \"\"\"\n",
    "    \n",
    "    def __init__(self,x, y):\n",
    "        \"\"\"\n",
    "        créer une cellule positionnée en (x=ligne, y=colonne)\n",
    "        \"\"\"\n",
    "        \n",
    "        self.x = x\n",
    "        self.y = y\n",
    "        #les murs sont dans l'ordre : N, S, E, O. \n",
    "        #la valeur est à True si un mur est présent, False sinon\n",
    "        self.murs = {'N': True, 'S': True, 'E': True, 'O': True}\n",
    "\n",
    "########       \n",
    "class Grille :\n",
    "    \"\"\"\n",
    "    construction d'une grille de cellules\n",
    "    \"\"\"\n",
    "    \n",
    "    def __init__(self, nl, nc):\n",
    "        \"\"\"\n",
    "        construction d'une grille de dimension (nl, nc)\n",
    "        \"\"\"\n",
    "        \n",
    "        self.nl = nl\n",
    "        self.nc = nc\n",
    "        self.cadrillage = []\n",
    "        for i in range(nl):\n",
    "            GrilleLigne=[]\n",
    "            for j in range(nc):\n",
    "                GrilleLigne.append(UneCellule(i,j))\n",
    "            self.cadrillage.append(GrilleLigne)\n",
    "        \n",
    "        \n",
    "    def cellule(self, x, y):\n",
    "        \"\"\"\n",
    "        retourne la cellule de la grille de position (x=ligne, y=colonne)\n",
    "        \"\"\"\n",
    "        \n",
    "        return self.cadrillage[x][y]\n",
    "    \n",
    "    def __str__(self):\n",
    "        \"\"\"\n",
    "        retourne une chaine de caractères représentant le labyrinthe\n",
    "        pour les cellules touchant le bord gauche ou le bord du haut de la grille, les 4 murs sont représentés.\n",
    "        pour les autres, seuls les murs Est et Sud sont représentés\n",
    "        \"\"\"\n",
    "        \n",
    "        laby_lignes = []\n",
    "        laby_l = ['+']\n",
    "        for y in range(self.nc):\n",
    "            if self.cadrillage[0][y].murs['N']:\n",
    "                laby_l.append('---+')\n",
    "            else :\n",
    "                laby_l.append('   +')\n",
    "        laby_lignes.append(''.join(laby_l))\n",
    "                              \n",
    "              \n",
    "        for x in range(0,self.nl):\n",
    "            if self.cadrillage[x][0].murs['O'] :\n",
    "                laby_l = ['|']\n",
    "            else :\n",
    "                laby_l = [' ']\n",
    "            for y in range(self.nc):\n",
    "                if self.cadrillage[x][y].murs['E']:\n",
    "                    laby_l.append('   |')\n",
    "                else:\n",
    "                    laby_l.append('    ')\n",
    "            laby_lignes.append(''.join(laby_l))\n",
    "            laby_l = ['+']\n",
    "            for y in range(self.nc):\n",
    "                if self.cadrillage[x][y].murs['S']:\n",
    "                    laby_l.append('---+')\n",
    "                else:\n",
    "                    laby_l.append('   +')\n",
    "            laby_lignes.append(''.join(laby_l))\n",
    "        \n",
    "        #laby_lignes.append('\\n')\n",
    "        return '\\n'.join(laby_lignes)"
   ]
  },
  {
   "cell_type": "markdown",
   "id": "2280b008",
   "metadata": {},
   "source": [
    "## 1_4 Premier exercice "
   ]
  },
  {
   "cell_type": "code",
   "execution_count": 2,
   "id": "9dac18e2",
   "metadata": {},
   "outputs": [],
   "source": [
    "# Permet de convertir une orientation en son opposé\n",
    "def dirInvert(orientation: str)->str:\n",
    "    r=\"\"\n",
    "    if(orientation == 'N'):\n",
    "        r = \"S\"\n",
    "    if(orientation == 'S'):\n",
    "        r = \"N\"\n",
    "    if(orientation == 'O'):\n",
    "        r = \"E\"\n",
    "    if(orientation == 'E'):\n",
    "        r = \"O\"\n",
    "    return r\n",
    "\n",
    "#Permet de convertir une orientation pour toujours à droite\n",
    "def dirDroite(orientation: str) -> tuple:\n",
    "    r = \"\"\n",
    "    if (orientation == 'N'):\n",
    "        r = \"E\"\n",
    "    elif (orientation == 'S'):\n",
    "        r = \"O\"\n",
    "    elif (orientation == 'O'):\n",
    "        r = \"N\"\n",
    "    elif (orientation == 'E'):\n",
    "        r = \"S\"\n",
    "    return r\n",
    "\n",
    "# Permet de convertir une orientation en ses coordonnées\n",
    "def dirConvert(orientation : str)-> tuple:\n",
    "    r=\"\"\n",
    "    if(orientation == 'N'):\n",
    "        r = (-1,0)\n",
    "    if(orientation == 'S'):\n",
    "        r = (1,0)\n",
    "    if(orientation == 'O'):\n",
    "        r = (0,-1)\n",
    "    if(orientation == 'E'):\n",
    "        r = (0,1)\n",
    "    return r\n",
    "\n",
    "def convertCoordToOrientation(coord):\n",
    "    res = \"\"\n",
    "    if coord == (0, -1):\n",
    "        res = \"O\"\n",
    "    elif coord == (0, 1):\n",
    "        res = \"E\"\n",
    "    elif coord == (-1, 0):\n",
    "        res = \"N\"\n",
    "    elif coord == (1, 0):\n",
    "        res = \"S\"\n",
    "    return res\n",
    "\n",
    "# Permet d'additionner 2 tuples entre eux\n",
    "def addTuple(coord:tuple,dir:tuple)->tuple:\n",
    "    return (coord[0] + dir[0], coord[1] + dir[1])\n",
    "\n",
    "# Permet de soustraire 2 tuples entre eux\n",
    "def subTuple(coord:tuple,dir:tuple)->tuple:\n",
    "    return (coord[0] - dir[0], coord[1] - dir[1])\n",
    "\n",
    "# Permet de savoir si une coordonnée est bien dans le labyrinthe\n",
    "def estDansLaby(grille: Grille, coord) -> bool:\n",
    "    return not (coord[0] < 0 or coord[0] >= grille.nl or coord[1] < 0 or coord[1] >= grille.nc)\n",
    "\n",
    "# Permet de retourner un tableau 2D remplit avec False et sa coordonnée\n",
    "def create2d(grille: Grille) -> list:\n",
    "    res = []\n",
    "    for i in range(grille.nl):\n",
    "        line = []\n",
    "        for j in range(grille.nc):\n",
    "            line.append([False, (i, j)])\n",
    "        res.append(line)\n",
    "    return res\n",
    "\n",
    "# Permet de retourner la liste des voisins d'une cellule qui n'a pas été traité\n",
    "def getVoisin(table: list, grille: Grille, coord: tuple) -> list:\n",
    "    res = []\n",
    "    if (estDansLaby(grille, coord)):\n",
    "        voisins = [(coord[0]-1, coord[1]), (coord[0]+1, coord[1]), (coord[0], coord[1]+1), (coord[0], coord[1]-1)]\n",
    "        for i in range(0, len(voisins)):\n",
    "            if estDansLaby(grille, voisins[i]):\n",
    "                if (table[voisins[i][0]][voisins[i][1]][0] == False):\n",
    "                    res.append(voisins[i])\n",
    "    return res\n",
    "\n",
    "# Permet de retourner la liste des murs qui sont à False donc qui ne sont pas présent\n",
    "def getOrientationPasMur(grille: Grille, coord: tuple) -> list:\n",
    "    res = []\n",
    "    for i in grille.cellule(coord[0], coord[1]).murs:\n",
    "        if (grille.cellule(coord[0], coord[1]).murs[i] == False):\n",
    "            res.append(i)\n",
    "    return res"
   ]
  },
  {
   "cell_type": "code",
   "execution_count": 3,
   "id": "96cf4fe3",
   "metadata": {},
   "outputs": [],
   "source": [
    "def effaceMur(grille, coord , orientation):\n",
    "    # On convertit l'orientation en coordonnée\n",
    "    ori = dirConvert(orientation)\n",
    "    \n",
    "    # On cherche l'inverse de l'orientation donnée\n",
    "    ori1= dirInvert(orientation)\n",
    "    \n",
    "    # On calcule la case qui verra son mur supprimé\n",
    "    case1 = addTuple(coord, ori)\n",
    "    \n",
    "    # Si la case que l'on veut supprimer existe dans le labyrinthe\n",
    "    if estDansLaby(grille, coord):\n",
    "        # On supprime le mur voulu\n",
    "        grille.cellule(coord[0],coord[1]).murs[orientation]=False\n",
    "        \n",
    "        # Si la case voisine que l'on veut supprimer existe dans le labyrinthe\n",
    "        if estDansLaby(grille, case1):\n",
    "            # On supprime le mur voulu\n",
    "            grille.cellule(case1[0],case1[1]).murs[ori1]=False\n",
    "    return grille"
   ]
  },
  {
   "cell_type": "markdown",
   "id": "2ea6b289",
   "metadata": {},
   "source": [
    "## 2°) Construction de labyrinthes parfaits "
   ]
  },
  {
   "cell_type": "markdown",
   "id": "fb84d893",
   "metadata": {},
   "source": [
    "### 2_1 Algorithme de l'arbre binaire "
   ]
  },
  {
   "cell_type": "code",
   "execution_count": 4,
   "id": "b8a1f4e4",
   "metadata": {},
   "outputs": [],
   "source": [
    "def arbreBinaire(grille: Grille) -> Grille:\n",
    "    # On fait une boucle sur les lignes\n",
    "    for x in range(0, grille.nl):\n",
    "        # On fait une boucle sur les colonnes\n",
    "        for y in range(0, grille.nc):\n",
    "            # On assigne les coordonnées à une variable\n",
    "            coord = (x, y)\n",
    "            # Si coord n'est pas égal à la dernière case en bas à droite du labyrinthe\n",
    "            if not (coord[0] == grille.nl-1 and coord[1] == grille.nc-1):\n",
    "                # Si y est égal au nombre de colonne - 1 de la grille\n",
    "                if (coord[1] == grille.nc-1):\n",
    "                    # On supprime le mur S de cette coordonnée\n",
    "                    effaceMur(grille,coord,'S')\n",
    "                # Sinon si x est égal au nombre de ligne - 1 de la grille\n",
    "                elif (coord[0] == grille.nl-1):\n",
    "                    # On supprime le mur E de cette coordonnée\n",
    "                    effaceMur(grille,coord,'E')\n",
    "                # Sinon on suprimme un mur de manière aléatoire entre E et S\n",
    "                else:\n",
    "                    effaceMur(grille,coord,random.choice(['E', 'S']))\n",
    "    return grille"
   ]
  },
  {
   "cell_type": "code",
   "execution_count": 5,
   "id": "54dcbcd2",
   "metadata": {},
   "outputs": [
    {
     "name": "stdout",
     "output_type": "stream",
     "text": [
      "+---+---+---+---+---+---+\n",
      "|   |   |   |       |   |\n",
      "+   +   +   +---+   +   +\n",
      "|   |           |       |\n",
      "+   +---+---+   +---+   +\n",
      "|           |   |   |   |\n",
      "+---+---+   +   +   +   +\n",
      "|                       |\n",
      "+---+---+---+---+---+---+\n"
     ]
    }
   ],
   "source": [
    "ab = Grille(4,6)\n",
    "print(arbreBinaire(ab))"
   ]
  },
  {
   "cell_type": "markdown",
   "id": "86dea661",
   "metadata": {},
   "source": [
    "### 2_2 Algorithme sidewinder "
   ]
  },
  {
   "cell_type": "code",
   "execution_count": 6,
   "id": "c480b768",
   "metadata": {},
   "outputs": [],
   "source": [
    "def sidewinder(grille: Grille) -> Grille:\n",
    "    # On fait une boucle sur les lignes\n",
    "    for i in range(grille.nl):\n",
    "        # On fait une boucle sur les colonnes\n",
    "        for j in range(grille.nc):\n",
    "            # On regarde si i et j ne sont pas égal respectivement à la dernière ligne et à la dernière colonne\n",
    "            if (i != grille.nl - 1 or j != grille.nc - 1):\n",
    "                # Si la ligne est bien la dernière alors\n",
    "                if (i == grille.nl - 1):\n",
    "                    # On supprime le mur E aux coordonnées (i, j)\n",
    "                    effaceMur(grille, (i, j), 'E')\n",
    "                # Sinon si la colonne est bien la dernière alors\n",
    "                elif ( j == grille.nc - 1 ):\n",
    "                    # On supprime le mur S aux coordonnées (i, j)\n",
    "                    effaceMur(grille,(i,j),'S')\n",
    "                # Sinon\n",
    "                else:\n",
    "                    # On choisit aléatoirement 0 ou 1\n",
    "                    rd = random.choice([0, 1])\n",
    "                    # Si c'est 0 alors\n",
    "                    if (rd == 0):\n",
    "                        # On supprime le mur E aux coordonnées (i, j)\n",
    "                        effaceMur(grille, (i, j), 'E')\n",
    "                    # Sinon\n",
    "                    else:\n",
    "                        # On regarde toute les cellules qui ont formé un passage, càd sans mur entre 2 cellules\n",
    "                        adjacent = [(i, j)]\n",
    "                        m = j-1\n",
    "                        while (grille.cellule(i, m).murs['E'] == False):\n",
    "                            adjacent.append((i, m))\n",
    "                            m -= 1\n",
    "                        # On choisit aléatoire parmi le passage, une cellule et on détruit son mur S\n",
    "                        effaceMur(grille, random.choice(adjacent), 'S')\n",
    "    return grille "
   ]
  },
  {
   "cell_type": "code",
   "execution_count": 7,
   "id": "04ba3ad4",
   "metadata": {},
   "outputs": [
    {
     "name": "stdout",
     "output_type": "stream",
     "text": [
      "+---+---+---+---+---+---+\n",
      "|   |       |   |       |\n",
      "+   +   +---+   +---+   +\n",
      "|           |   |       |\n",
      "+   +---+---+   +---+   +\n",
      "|   |   |   |   |       |\n",
      "+   +   +   +   +---+   +\n",
      "|                       |\n",
      "+---+---+---+---+---+---+\n"
     ]
    }
   ],
   "source": [
    "SW = Grille(4,6)\n",
    "print(sidewinder(SW))"
   ]
  },
  {
   "cell_type": "markdown",
   "id": "afec7210",
   "metadata": {},
   "source": [
    "### 2_3 Algorithme d'exploration exhaustive "
   ]
  },
  {
   "cell_type": "code",
   "execution_count": 8,
   "id": "cf13843a",
   "metadata": {},
   "outputs": [],
   "source": [
    "def explorationE(grille: Grille) -> Grille:\n",
    "    \n",
    "    # On crée un tableau 2D avec un booléen de visite et leurs coordonnées\n",
    "    visite = create2d(grille)\n",
    "    \n",
    "    # On initialise la liste pile\n",
    "    pile = []\n",
    "    \n",
    "    # On choisit une cellule aléatoire parmi le tableau 2D\n",
    "    cell = random.choice(random.choice(visite))[1]\n",
    "    \n",
    "    # On ajoute à la pile cette première cellule\n",
    "    pile.append(cell)\n",
    "    \n",
    "    # On mets dans le tableau 2D que cette cellule a été visité\n",
    "    visite[cell[0]][cell[1]][0] = True\n",
    "    \n",
    "    # Tant que la pile n'est pas vide\n",
    "    while (len(pile) != 0):\n",
    "        # On récupère la liste des voisins du premier élément de la pile\n",
    "        voisins = getVoisin(visite, grille, pile[0])\n",
    "        \n",
    "        # Si la longueur de cette liste n'est pas égal à 0\n",
    "        if (len(voisins) != 0):\n",
    "            \n",
    "            # On choisit une cellule aléatoirement parmi cette liste\n",
    "            voisin = random.choice(voisins)\n",
    "            \n",
    "            # On supprime le mur qui va de ce voisin vers la cellule étudiée dans la pile\n",
    "            effaceMur(grille, pile[0], convertCoordToOrientation(subTuple(voisin, pile[0])))\n",
    "            \n",
    "            # On mets dans le tableau 2D que cette cellule a été visité\n",
    "            visite[voisin[0]][voisin[1]][0] = True\n",
    "            \n",
    "            # On insert au début de pile cette cellule voisine choisit aléatoirement\n",
    "            pile.insert(0, voisin)\n",
    "        \n",
    "        # Sinon\n",
    "        else:\n",
    "            # On supprime le premier élément de la pile car on a tout étudié\n",
    "            del pile[0]\n",
    "    return grille"
   ]
  },
  {
   "cell_type": "code",
   "execution_count": 9,
   "id": "da78709b",
   "metadata": {},
   "outputs": [
    {
     "name": "stdout",
     "output_type": "stream",
     "text": [
      "+---+---+---+---+---+---+\n",
      "|               |       |\n",
      "+---+---+   +   +---+   +\n",
      "|       |   |           |\n",
      "+   +---+   +---+---+   +\n",
      "|       |   |           |\n",
      "+---+   +   +   +---+---+\n",
      "|           |           |\n",
      "+---+---+---+---+---+---+\n"
     ]
    }
   ],
   "source": [
    "grilleTest = Grille(4,6)\n",
    "exp = explorationE(grilleTest)\n",
    "print(exp)"
   ]
  },
  {
   "cell_type": "markdown",
   "id": "0bed6a41",
   "metadata": {},
   "source": [
    "### 2_4 Bonus "
   ]
  },
  {
   "cell_type": "code",
   "execution_count": 10,
   "id": "a7b4daee",
   "metadata": {},
   "outputs": [],
   "source": [
    "def fusion(grille):\n",
    "    idLst = [[i+1+j*grille.nc for i in range(grille.nc)] for j in range(grille.nl)]\n",
    "    step = 0\n",
    "    maxStep = grille.nc*grille.nl-1\n",
    "    while step < maxStep:\n",
    "        orientation = random.choice(['N', 'S', 'E', 'O'])\n",
    "        cell = (random.randint(0, grille.nl-1), random.randint(0, grille.nc-1))\n",
    "        idCell = idLst[cell[0]][cell[1]]\n",
    "        step += 1"
   ]
  },
  {
   "cell_type": "code",
   "execution_count": 11,
   "id": "61909bac",
   "metadata": {},
   "outputs": [
    {
     "name": "stdout",
     "output_type": "stream",
     "text": [
      "None\n"
     ]
    }
   ],
   "source": [
    "print(fusion(grilleTest))"
   ]
  },
  {
   "cell_type": "markdown",
   "id": "88949c4e",
   "metadata": {},
   "source": [
    "## 3°) Résolution d'un labyrinthe parfait "
   ]
  },
  {
   "cell_type": "markdown",
   "id": "7d0dc290",
   "metadata": {},
   "source": [
    "### 3_1 Introduction "
   ]
  },
  {
   "cell_type": "code",
   "execution_count": 12,
   "id": "9ee9abf2",
   "metadata": {},
   "outputs": [],
   "source": [
    "def attenantes(grille: Grille,coord: tuple) -> list:\n",
    "    # On initialise la liste de résultat\n",
    "    res = []\n",
    "    # Si la coordonnée est bien dans le labyrinthe\n",
    "    if (estDansLaby(grille, coord)):\n",
    "        # On récupère la liste des orientations où il n'y a pas de mur\n",
    "        orientationPasMur = getOrientationPasMur(grille,coord)\n",
    "        # Pour chaque élément dans cette liste\n",
    "        for orientation in orientationPasMur:\n",
    "            # On récupère le voisin en fonction de sa coordonnée\n",
    "            coordVoisin = addTuple(coord, dirConvert(orientation))\n",
    "            # Et si ce voisin est bien dans le labyrinthe\n",
    "            if estDansLaby(grille, coordVoisin):\n",
    "                # Alors on l'ajoute à la liste de résultat\n",
    "                res.append(coordVoisin)\n",
    "    return res"
   ]
  },
  {
   "cell_type": "code",
   "execution_count": 13,
   "id": "ab9710da",
   "metadata": {},
   "outputs": [
    {
     "name": "stdout",
     "output_type": "stream",
     "text": [
      "+---+---+---+---+---+---+---+\n",
      "            |               |\n",
      "+   +---+   +---+---+---+   +\n",
      "|       |   |           |   |\n",
      "+   +   +   +   +---+   +   +\n",
      "|   |   |   |       |       |\n",
      "+---+   +   +---+   +---+---+\n",
      "|       |       |           |\n",
      "+   +---+---+   +---+---+   +\n",
      "|   |                        \n",
      "+---+---+---+---+---+---+---+\n",
      "[(2, 3), (1, 4)]\n",
      "[(2, 1), (1, 0)]\n"
     ]
    }
   ],
   "source": [
    "laby = explorationE(Grille(5,7))\n",
    "effaceMur(laby,(0,0),'O')\n",
    "effaceMur(laby,(4,6),'E')\n",
    "print(laby)\n",
    "print(attenantes(laby,(1,3)))\n",
    "print(attenantes(laby,(1,1)))"
   ]
  },
  {
   "cell_type": "markdown",
   "id": "d1f6fc46",
   "metadata": {},
   "source": [
    "### 3_2 Calcul des distances depuis (0,0) "
   ]
  },
  {
   "cell_type": "code",
   "execution_count": 14,
   "id": "08355408",
   "metadata": {},
   "outputs": [],
   "source": [
    "def distance(grille: Grille) -> list:\n",
    "    # On crée un tableau 2D remplit de 0\n",
    "    D = [[ 0 for i in range(grille.nc)] for j in range (grille.nl)]\n",
    "    # On crée un tableau 2D remplit de False, elle va nous servir à savoir si on a visité une cellule\n",
    "    visite = [[ False for i in range(grille.nc)] for j in range (grille.nl)]\n",
    "    # On initialise une liste file avec la première case à l'intérieur\n",
    "    file = [(0, 0)]\n",
    "    # On mets dans la matrice pour la première case, 0\n",
    "    D[0][0] = 0\n",
    "    # Tant que la liste file n'est pas vide\n",
    "    while (len(file) != 0):\n",
    "        # L'élément traité sera le premier élément de la file\n",
    "        element = file[0]\n",
    "        # On initialise une liste pour stocker les cellules attenantes qui n'ont pas été visité\n",
    "        cellAttenantes = []\n",
    "        # Pour chaque cellules attenantes\n",
    "        for coord in attenantes(grille, element):\n",
    "            # On vérifie si elle n'a pas été visité\n",
    "            if visite[coord[0]][coord[1]] == False:\n",
    "                # Si c'est le cas, on ajoute les coordonnées à la liste\n",
    "                cellAttenantes.append(coord)\n",
    "                # On mets à la fin de la liste file, la coordonnée attenante\n",
    "                file.append(coord)\n",
    "                # On ajoute le premier élément de la pile + 1 à cette cellule dans la matrice\n",
    "                D[coord[0]][coord[1]] = D[element[0]][element[1]] + 1\n",
    "        # On dit qu'on a visité la première cellule de file\n",
    "        visite[file[0][0]][file[0][1]] = True\n",
    "        # On supprime ensuite cette même cellule du file\n",
    "        del file[0]\n",
    "    return D"
   ]
  },
  {
   "cell_type": "code",
   "execution_count": 15,
   "id": "89756bdb",
   "metadata": {},
   "outputs": [
    {
     "name": "stdout",
     "output_type": "stream",
     "text": [
      "+---+---+---+---+---+---+---+\n",
      "            |               |\n",
      "+   +---+   +---+---+---+   +\n",
      "|       |   |           |   |\n",
      "+   +   +   +   +---+   +   +\n",
      "|   |   |   |       |       |\n",
      "+---+   +   +---+   +---+---+\n",
      "|       |       |           |\n",
      "+   +---+---+   +---+---+   +\n",
      "|   |                        \n",
      "+---+---+---+---+---+---+---+\n",
      "[[0, 1, 2, 25, 24, 23, 22], [1, 2, 3, 16, 17, 18, 21], [2, 3, 4, 15, 14, 19, 20], [5, 4, 5, 6, 13, 12, 11], [6, 9, 8, 7, 8, 9, 10]]\n"
     ]
    }
   ],
   "source": [
    "print(laby)\n",
    "print(distance(laby))"
   ]
  },
  {
   "cell_type": "markdown",
   "id": "3c40e628",
   "metadata": {},
   "source": [
    "### 3_3 Résolution "
   ]
  },
  {
   "cell_type": "code",
   "execution_count": 16,
   "id": "b074868a",
   "metadata": {},
   "outputs": [],
   "source": [
    "def resolution(grille: Grille) -> list:\n",
    "    # On récupère la liste des distances de chaques cellules\n",
    "    grilleDist = distance(grille)\n",
    "    # On récupère la dernière case\n",
    "    current = (len(grilleDist)-1, len(grilleDist[len(grilleDist)-1])-1)\n",
    "    # On l'ajoute à la liste de résultat\n",
    "    res = [current]\n",
    "    # Tant que la distance d'une cellule est supérieur à 0\n",
    "    while (grilleDist[current[0]][current[1]] > 0):\n",
    "        # On récupère la liste des cellules attenantes à la case traité\n",
    "        attLst = attenantes(grille, current)\n",
    "        # Pour chaque cellule attenante\n",
    "        for co in attLst:\n",
    "            # On récupère la distance de la cellule attenante\n",
    "            distanceAtte = grilleDist[co[0]][co[1]]\n",
    "            # Si cette distance est égal à la distance de la cellule courante - 1\n",
    "            if (distanceAtte == grilleDist[current[0]][current[1]] - 1):\n",
    "                # Alors la cellule utilisée va devenir cette cellule attenante\n",
    "                current = co\n",
    "                # Puis on l'ajoute à la liste de résultat\n",
    "                res.append(co)\n",
    "    # On inverse la liste de résultat\n",
    "    res.reverse()\n",
    "    return res"
   ]
  },
  {
   "cell_type": "code",
   "execution_count": 17,
   "id": "18267a44",
   "metadata": {},
   "outputs": [
    {
     "name": "stdout",
     "output_type": "stream",
     "text": [
      "+---+---+---+---+---+---+---+\n",
      "            |               |\n",
      "+   +---+   +---+---+---+   +\n",
      "|       |   |           |   |\n",
      "+   +   +   +   +---+   +   +\n",
      "|   |   |   |       |       |\n",
      "+---+   +   +---+   +---+---+\n",
      "|       |       |           |\n",
      "+   +---+---+   +---+---+   +\n",
      "|   |                        \n",
      "+---+---+---+---+---+---+---+ \n",
      "\n",
      "[(0, 0), (0, 1), (0, 2), (1, 2), (2, 2), (3, 2), (3, 3), (4, 3), (4, 4), (4, 5), (4, 6)]\n"
     ]
    }
   ],
   "source": [
    "print(laby,'\\n')\n",
    "print(resolution(laby))"
   ]
  },
  {
   "cell_type": "markdown",
   "id": "545a095b",
   "metadata": {},
   "source": [
    "### 3_4 BONUS "
   ]
  },
  {
   "cell_type": "code",
   "execution_count": 18,
   "id": "6352cb65",
   "metadata": {},
   "outputs": [],
   "source": [
    "def parcoursMD(grille: Grille) -> list:\n",
    "    # Initialisation de la première cellule\n",
    "    current = (0, 0)\n",
    "    # Initialisation de la direction de départ\n",
    "    orientation = 'E'\n",
    "    # Initialisation de la liste de résultat\n",
    "    res = []\n",
    "    # Tant que la cellule de base n'est pas la dernière\n",
    "    while (current[0] != grille.nl - 1 or current[1] != grille.nc - 1):\n",
    "        # On ajoute à la liste de résulat la cellule de base\n",
    "        res.append(current)\n",
    "        # On change la direction en fonction de la direction droite\n",
    "        if not (grille.cellule(current[0], current[1]).murs[dirDroite(orientation)]):\n",
    "            direction = dirDroite(orientation)\n",
    "        elif not (grille.cellule(current[0], current[1]).murs[dirInvert(dirDroite(orientation))]):\n",
    "            direction = dirInvert(dirDroite(orientation))\n",
    "        elif not (grille.cellule(current[0], current[1]).murs[orientation]):\n",
    "            pass\n",
    "        else:\n",
    "            orientation = dirInvert(orientation)\n",
    "        # La cellule de base devient le voisin de la cellule précedente en fonction de l'orientation\n",
    "        current = addTuple(current,convertOrientationToCoord(orientation))\n",
    "    return res"
   ]
  },
  {
   "cell_type": "code",
   "execution_count": 19,
   "id": "8e1deab0",
   "metadata": {},
   "outputs": [
    {
     "name": "stdout",
     "output_type": "stream",
     "text": [
      "+---+---+---+---+---+---+---+\n",
      "            |               |\n",
      "+   +---+   +---+---+---+   +\n",
      "|       |   |           |   |\n",
      "+   +   +   +   +---+   +   +\n",
      "|   |   |   |       |       |\n",
      "+---+   +   +---+   +---+---+\n",
      "|       |       |           |\n",
      "+   +---+---+   +---+---+   +\n",
      "|   |                        \n",
      "+---+---+---+---+---+---+---+ \n",
      "\n"
     ]
    },
    {
     "ename": "NameError",
     "evalue": "name 'convertOrientationToCoord' is not defined",
     "output_type": "error",
     "traceback": [
      "\u001b[0;31m---------------------------------------------------------------------------\u001b[0m",
      "\u001b[0;31mNameError\u001b[0m                                 Traceback (most recent call last)",
      "\u001b[0;32m<ipython-input-19-196c91e16fd1>\u001b[0m in \u001b[0;36m<module>\u001b[0;34m\u001b[0m\n\u001b[1;32m      1\u001b[0m \u001b[0mprint\u001b[0m\u001b[0;34m(\u001b[0m\u001b[0mlaby\u001b[0m\u001b[0;34m,\u001b[0m\u001b[0;34m'\\n'\u001b[0m\u001b[0;34m)\u001b[0m\u001b[0;34m\u001b[0m\u001b[0;34m\u001b[0m\u001b[0m\n\u001b[0;32m----> 2\u001b[0;31m \u001b[0mprint\u001b[0m\u001b[0;34m(\u001b[0m\u001b[0mparcoursMD\u001b[0m\u001b[0;34m(\u001b[0m\u001b[0mlaby\u001b[0m\u001b[0;34m)\u001b[0m\u001b[0;34m)\u001b[0m\u001b[0;34m\u001b[0m\u001b[0;34m\u001b[0m\u001b[0m\n\u001b[0m",
      "\u001b[0;32m<ipython-input-18-153bbc5a50c2>\u001b[0m in \u001b[0;36mparcoursMD\u001b[0;34m(grille)\u001b[0m\n\u001b[1;32m     20\u001b[0m             \u001b[0morientation\u001b[0m \u001b[0;34m=\u001b[0m \u001b[0mdirInvert\u001b[0m\u001b[0;34m(\u001b[0m\u001b[0morientation\u001b[0m\u001b[0;34m)\u001b[0m\u001b[0;34m\u001b[0m\u001b[0;34m\u001b[0m\u001b[0m\n\u001b[1;32m     21\u001b[0m         \u001b[0;31m# La cellule de base devient le voisin de la cellule précedente en fonction de l'orientation\u001b[0m\u001b[0;34m\u001b[0m\u001b[0;34m\u001b[0m\u001b[0;34m\u001b[0m\u001b[0m\n\u001b[0;32m---> 22\u001b[0;31m         \u001b[0mcurrent\u001b[0m \u001b[0;34m=\u001b[0m \u001b[0maddTuple\u001b[0m\u001b[0;34m(\u001b[0m\u001b[0mcurrent\u001b[0m\u001b[0;34m,\u001b[0m\u001b[0mconvertOrientationToCoord\u001b[0m\u001b[0;34m(\u001b[0m\u001b[0morientation\u001b[0m\u001b[0;34m)\u001b[0m\u001b[0;34m)\u001b[0m\u001b[0;34m\u001b[0m\u001b[0;34m\u001b[0m\u001b[0m\n\u001b[0m\u001b[1;32m     23\u001b[0m     \u001b[0;32mreturn\u001b[0m \u001b[0mres\u001b[0m\u001b[0;34m\u001b[0m\u001b[0;34m\u001b[0m\u001b[0m\n",
      "\u001b[0;31mNameError\u001b[0m: name 'convertOrientationToCoord' is not defined"
     ]
    }
   ],
   "source": [
    "print(laby,'\\n')\n",
    "print(parcoursMD(laby))"
   ]
  }
 ],
 "metadata": {
  "kernelspec": {
   "display_name": "Python 3",
   "language": "python",
   "name": "python3"
  },
  "language_info": {
   "codemirror_mode": {
    "name": "ipython",
    "version": 3
   },
   "file_extension": ".py",
   "mimetype": "text/x-python",
   "name": "python",
   "nbconvert_exporter": "python",
   "pygments_lexer": "ipython3",
   "version": "3.8.10"
  }
 },
 "nbformat": 4,
 "nbformat_minor": 5
}
